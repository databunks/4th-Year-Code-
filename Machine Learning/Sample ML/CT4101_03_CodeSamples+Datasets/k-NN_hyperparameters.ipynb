{
 "cells": [
  {
   "cell_type": "markdown",
   "metadata": {},
   "source": [
    "In this worked example, we seek to apply the k-NN algorithm to a dataset called beers.\n",
    "\n",
    "The dataset has already been split into two different sets: one for training (beer_training.csv) and one for testing (beer_test.csv)\n",
    "\n",
    "The dependent variable that we are trying to predict is style, which can be one of 3 classes: ale, lager or stout.\n",
    "\n",
    "In this example we will see the importance of maintaining separate training and test data, as well as how to tune the hyperparameters of a machine learning model."
   ]
  },
  {
   "cell_type": "code",
   "execution_count": 15,
   "metadata": {},
   "outputs": [
    {
     "name": "stdout",
     "output_type": "stream",
     "text": [
      "   calorific_value  nitrogen  turbidity style   alcohol  sugars  bitterness  \\\n",
      "0        45.305310  0.459548   1.917273   ale  4.227692   16.67   12.568947   \n",
      "1        43.889381  0.548977   3.186364   ale  4.289231   16.73   14.974000   \n",
      "2        41.588496  0.542847   1.568182   ale  4.344615   16.48   11.848789   \n",
      "3        44.553097  0.480301   1.871818   ale  4.424615   18.59   13.879632   \n",
      "4        41.013274  0.441860   2.345455   ale  4.264615   16.35   12.186053   \n",
      "\n",
      "   beer_id  colour  degree_of_fermentation  \n",
      "0      167   11.04               62.178571  \n",
      "1      128   13.44               63.032857  \n",
      "2       88   14.04               63.468571  \n",
      "3      147   12.48               63.531429  \n",
      "4       74   12.12               63.747143  \n",
      "(124, 10)\n"
     ]
    }
   ],
   "source": [
    "import pandas as pd\n",
    "\n",
    "# details for iris dataset - this is a very simple dataset that is easy to get good results on\n",
    "# training_file = \"iris_training.csv\"\n",
    "# test_file = \"iris_test.csv\"\n",
    "# independent_cols = [\"sepal_length\",\"sepal_width\",\"petal_length\",\"petal_width\"]\n",
    "# dependent_col = \"class\"\n",
    "\n",
    "# details for beer dataset\n",
    "training_file = \"beer_training.csv\"\n",
    "test_file = \"beer_test.csv\"\n",
    "independent_cols = [\"calorific_value\", \"nitrogen\", \"turbidity\", \"alcohol\", \"sugars\", \"bitterness\", \"beer_id\", \n",
    "                    \"colour\", \"degree_of_fermentation\"]\n",
    "dependent_col = \"style\"\n",
    "\n",
    "# Here we load our training dataset in from the training file using the pandas library\n",
    "df_training = pd.read_csv(training_file)\n",
    "print(df_training.head())\n",
    "print(df_training.shape)"
   ]
  },
  {
   "cell_type": "code",
   "execution_count": 16,
   "metadata": {},
   "outputs": [
    {
     "name": "stdout",
     "output_type": "stream",
     "text": [
      "   calorific_value  nitrogen  turbidity   alcohol  sugars  bitterness  \\\n",
      "0        45.305310  0.459548   1.917273  4.227692   16.67   12.568947   \n",
      "1        43.889381  0.548977   3.186364  4.289231   16.73   14.974000   \n",
      "2        41.588496  0.542847   1.568182  4.344615   16.48   11.848789   \n",
      "3        44.553097  0.480301   1.871818  4.424615   18.59   13.879632   \n",
      "4        41.013274  0.441860   2.345455  4.264615   16.35   12.186053   \n",
      "\n",
      "   beer_id  colour  degree_of_fermentation  \n",
      "0      167   11.04               62.178571  \n",
      "1      128   13.44               63.032857  \n",
      "2       88   14.04               63.468571  \n",
      "3      147   12.48               63.531429  \n",
      "4       74   12.12               63.747143  \n",
      "(124, 9)\n"
     ]
    }
   ],
   "source": [
    "# set up a matrix X containing the independent variables from the training data\n",
    "X_training = df_training.loc[:,independent_cols]\n",
    "print(X_training.head())\n",
    "print(X_training.shape)"
   ]
  },
  {
   "cell_type": "code",
   "execution_count": 17,
   "metadata": {},
   "outputs": [
    {
     "name": "stdout",
     "output_type": "stream",
     "text": [
      "0    ale\n",
      "1    ale\n",
      "2    ale\n",
      "3    ale\n",
      "4    ale\n",
      "Name: style, dtype: object\n",
      "(124,)\n"
     ]
    }
   ],
   "source": [
    "# Set up a vector y containing the dependent variable / target attribute for the training data\n",
    "y_training = df_training.loc[:,dependent_col]\n",
    "print(y_training.head())\n",
    "print(y_training.shape)"
   ]
  },
  {
   "cell_type": "code",
   "execution_count": 18,
   "metadata": {},
   "outputs": [
    {
     "name": "stdout",
     "output_type": "stream",
     "text": [
      "   calorific_value  nitrogen  turbidity style   alcohol  sugars  bitterness  \\\n",
      "0        41.721239  0.503276   2.628182   ale  4.015385   16.73   10.452789   \n",
      "1        42.429204  0.525512   1.776364   ale  4.092308   16.72   10.999526   \n",
      "2        45.880531  0.443233   2.628182   ale  4.276923   16.68   13.456368   \n",
      "3        45.305310  0.471668   1.806364   ale  4.126154   18.84    9.202737   \n",
      "4        38.977876  0.392846   2.272727   ale  4.015385   16.77    9.457895   \n",
      "\n",
      "   beer_id  colour  degree_of_fermentation  \n",
      "0       93   13.44               55.337143  \n",
      "1      103   12.24               58.380000  \n",
      "2      178   10.92               58.382857  \n",
      "3      166   10.92               58.525714  \n",
      "4       44   10.56               58.900000  \n",
      "(30, 10)\n"
     ]
    }
   ],
   "source": [
    "# Next we load our test dataset in from the file iris_test.csv\n",
    "df_test = pd.read_csv(test_file)\n",
    "print(df_test.head())\n",
    "print(df_test.shape)"
   ]
  },
  {
   "cell_type": "code",
   "execution_count": 19,
   "metadata": {},
   "outputs": [
    {
     "name": "stdout",
     "output_type": "stream",
     "text": [
      "   calorific_value  nitrogen  turbidity   alcohol  sugars  bitterness  \\\n",
      "0        41.721239  0.503276   2.628182  4.015385   16.73   10.452789   \n",
      "1        42.429204  0.525512   1.776364  4.092308   16.72   10.999526   \n",
      "2        45.880531  0.443233   2.628182  4.276923   16.68   13.456368   \n",
      "3        45.305310  0.471668   1.806364  4.126154   18.84    9.202737   \n",
      "4        38.977876  0.392846   2.272727  4.015385   16.77    9.457895   \n",
      "\n",
      "   beer_id  colour  degree_of_fermentation  \n",
      "0       93   13.44               55.337143  \n",
      "1      103   12.24               58.380000  \n",
      "2      178   10.92               58.382857  \n",
      "3      166   10.92               58.525714  \n",
      "4       44   10.56               58.900000  \n",
      "(30, 9)\n"
     ]
    }
   ],
   "source": [
    "# set up a matrix X containing the independent variables from the test data\n",
    "X_test = df_test.loc[:,independent_cols]\n",
    "print(X_test.head())\n",
    "print(X_test.shape)"
   ]
  },
  {
   "cell_type": "code",
   "execution_count": 20,
   "metadata": {},
   "outputs": [
    {
     "name": "stdout",
     "output_type": "stream",
     "text": [
      "0    ale\n",
      "1    ale\n",
      "2    ale\n",
      "3    ale\n",
      "4    ale\n",
      "Name: style, dtype: object\n",
      "(30,)\n"
     ]
    }
   ],
   "source": [
    "# Set up a vector y containing the dependent variable / target attribute for the training data\n",
    "y_test = df_test.loc[:,dependent_col]\n",
    "print(y_test.head())\n",
    "print(y_test.shape)"
   ]
  },
  {
   "cell_type": "markdown",
   "metadata": {},
   "source": [
    "To explote the effect of hyperparameters on a simple machine learning model, let's experiment with the built-in k-NN implementation in scikit-learn.\n",
    "\n",
    "https://scikit-learn.org/stable/modules/generated/sklearn.neighbors.KNeighborsClassifier.html\n",
    "\n",
    "First we'll create a model using the default settings"
   ]
  },
  {
   "cell_type": "code",
   "execution_count": 21,
   "metadata": {},
   "outputs": [
    {
     "name": "stdout",
     "output_type": "stream",
     "text": [
      "Accuracy on training data: 0.7580645161290323\n",
      "Accuracy on test data: 0.4\n"
     ]
    }
   ],
   "source": [
    "from sklearn import neighbors, metrics\n",
    "\n",
    "# create a model using the default settings for k-NN, n_neighbors=5, weights=uniform, p=2 (Euclidean distance)\n",
    "model = neighbors.KNeighborsClassifier()\n",
    "model.fit(X_training, y_training)\n",
    "\n",
    "# compute the predictions for the training and test sets\n",
    "predictions_training = model.predict(X_training)\n",
    "predictions_test = model.predict(X_test)\n",
    "\n",
    "# compute the accuracy on the training and test set predictions\n",
    "accuracy_training = metrics.accuracy_score(y_training, predictions_training)\n",
    "accuracy_test = metrics.accuracy_score(y_test, predictions_test)\n",
    "print(\"Accuracy on training data:\",accuracy_training)\n",
    "print(\"Accuracy on test data:\",accuracy_test)"
   ]
  },
  {
   "cell_type": "code",
   "execution_count": 22,
   "metadata": {},
   "outputs": [
    {
     "name": "stdout",
     "output_type": "stream",
     "text": [
      "[1, 3, 5, 7, 9, 11, 13, 15, 17, 19, 21, 23, 25, 27, 29]\n",
      "[1.0, 0.8306451612903226, 0.7580645161290323, 0.6854838709677419, 0.6370967741935484, 0.6048387096774194, 0.5806451612903226, 0.5967741935483871, 0.5645161290322581, 0.5241935483870968, 0.5161290322580645, 0.46774193548387094, 0.46774193548387094, 0.46774193548387094, 0.43548387096774194]\n",
      "[0.5666666666666667, 0.4666666666666667, 0.4, 0.4, 0.4, 0.43333333333333335, 0.4, 0.3333333333333333, 0.43333333333333335, 0.4, 0.4, 0.4, 0.36666666666666664, 0.3, 0.3333333333333333]\n"
     ]
    }
   ],
   "source": [
    "# Now let's evaluate the effect of using different k values\n",
    "# start at k=1 and test all odd k values up to 21\n",
    "k_values = list(range(1,31,2))\n",
    "print(k_values)\n",
    "\n",
    "accuracy_training_k = []\n",
    "accuracy_test_k = []\n",
    "for k in k_values:\n",
    "    model_k = neighbors.KNeighborsClassifier(k)\n",
    "    model_k.fit(X_training, y_training)\n",
    "\n",
    "    # compute the predictions for the training and test sets\n",
    "    predictions_training_k = model_k.predict(X_training)\n",
    "    predictions_test_k = model_k.predict(X_test)\n",
    "\n",
    "    # compute the accuracy on the training and test set predictions\n",
    "    accuracy_training_k.append(metrics.accuracy_score(y_training, predictions_training_k))\n",
    "    accuracy_test_k.append(metrics.accuracy_score(y_test, predictions_test_k))\n",
    "\n",
    "print(accuracy_training_k)\n",
    "print(accuracy_test_k)"
   ]
  },
  {
   "cell_type": "code",
   "execution_count": 23,
   "metadata": {},
   "outputs": [
    {
     "data": {
      "image/png": "[encoded data removed]",
      "text/plain": [
       "<Figure size 432x288 with 1 Axes>"
      ]
     },
     "metadata": {
      "needs_background": "light"
     },
     "output_type": "display_data"
    }
   ],
   "source": [
    "# let's plot the accuracy on the training and test set\n",
    "import matplotlib.pyplot as plt\n",
    "plt.scatter(k_values,accuracy_training_k,marker=\"x\")\n",
    "plt.scatter(k_values,accuracy_test_k,marker=\"+\")\n",
    "plt.xlim([0, max(k_values)+2])\n",
    "plt.ylim([0.0, 1.1])\n",
    "plt.xlabel(\"Value of k\")\n",
    "plt.ylabel(\"Accuracy\")\n",
    "legend_labels = [\"Training (Euclidian dist.)\",\"Test (Euclidian dist.)\"]\n",
    "plt.legend(labels=legend_labels, loc=4, borderpad=1)\n",
    "plt.title(\"Effect of k on training and test set accuracy\", fontsize=10)\n",
    "plt.show()"
   ]
  },
  {
   "cell_type": "code",
   "execution_count": 30,
   "metadata": {},
   "outputs": [
    {
     "name": "stdout",
     "output_type": "stream",
     "text": [
      "p = 1 training [1.0, 0.8306451612903226, 0.8064516129032258, 0.75, 0.75, 0.717741935483871, 0.7016129032258065, 0.6854838709677419, 0.6451612903225806, 0.6854838709677419, 0.6451612903225806, 0.5806451612903226, 0.5564516129032258, 0.5645161290322581, 0.5645161290322581] \n",
      "\n",
      "p = 1 test [0.7, 0.7, 0.5333333333333333, 0.43333333333333335, 0.4666666666666667, 0.4, 0.5, 0.4666666666666667, 0.4666666666666667, 0.5, 0.4666666666666667, 0.5, 0.43333333333333335, 0.5, 0.4666666666666667] \n",
      "\n",
      "p = 2 training [1.0, 0.8306451612903226, 0.7580645161290323, 0.6854838709677419, 0.6370967741935484, 0.6048387096774194, 0.5806451612903226, 0.5967741935483871, 0.5645161290322581, 0.5241935483870968, 0.5161290322580645, 0.46774193548387094, 0.46774193548387094, 0.46774193548387094, 0.43548387096774194] \n",
      "\n",
      "p = 2 test [0.5666666666666667, 0.4666666666666667, 0.4, 0.4, 0.4, 0.43333333333333335, 0.4, 0.3333333333333333, 0.43333333333333335, 0.4, 0.4, 0.4, 0.36666666666666664, 0.3, 0.3333333333333333] \n",
      "\n",
      "p = 3 training [1.0, 0.8064516129032258, 0.7096774193548387, 0.6774193548387096, 0.6290322580645161, 0.6129032258064516, 0.5483870967741935, 0.5403225806451613, 0.5161290322580645, 0.49193548387096775, 0.4596774193548387, 0.43548387096774194, 0.4435483870967742, 0.4435483870967742, 0.41935483870967744] \n",
      "\n",
      "p = 3 test [0.5333333333333333, 0.36666666666666664, 0.4, 0.3333333333333333, 0.36666666666666664, 0.4, 0.3333333333333333, 0.3333333333333333, 0.4, 0.43333333333333335, 0.4, 0.36666666666666664, 0.3333333333333333, 0.3333333333333333, 0.3333333333333333] \n",
      "\n",
      "p = 4 training [1.0, 0.7983870967741935, 0.6774193548387096, 0.6532258064516129, 0.6370967741935484, 0.5887096774193549, 0.5403225806451613, 0.5080645161290323, 0.5080645161290323, 0.47580645161290325, 0.45161290322580644, 0.41935483870967744, 0.4435483870967742, 0.41935483870967744, 0.4274193548387097] \n",
      "\n",
      "p = 4 test [0.5333333333333333, 0.3333333333333333, 0.43333333333333335, 0.3, 0.3, 0.4, 0.3333333333333333, 0.36666666666666664, 0.4, 0.4, 0.4, 0.3333333333333333, 0.3, 0.3333333333333333, 0.3] \n",
      "\n"
     ]
    }
   ],
   "source": [
    "# Now let's explore the impact of using a different distance metric by changing the value of p used in the Minkowski formula\n",
    "p_values = list(range(1,5))\n",
    "# print(p_values)\n",
    "\n",
    "accuracy_training_k_p = []\n",
    "accuracy_test_k_p = []\n",
    "for j in range(len(p_values)):\n",
    "    accuracy_training_k_p.append([])\n",
    "    accuracy_test_k_p.append([])    \n",
    "\n",
    "    for k in k_values:\n",
    "        model_k_p = neighbors.KNeighborsClassifier(n_neighbors=k, p=p_values[j])\n",
    "        model_k_p.fit(X_training, y_training)\n",
    "\n",
    "        # compute the predictions for the training and test sets\n",
    "        predictions_training_k_p = model_k_p.predict(X_training)\n",
    "        predictions_test_k_p = model_k_p.predict(X_test)\n",
    "\n",
    "        # compute the accuracy on the training and test set predictions\n",
    "        accuracy_training_k_p[j].append(metrics.accuracy_score(y_training, predictions_training_k_p))\n",
    "        accuracy_test_k_p[j].append(metrics.accuracy_score(y_test, predictions_test_k_p))\n",
    "\n",
    "    print(\"p =\",p_values[j],\"training\",accuracy_training_k_p[j],\"\\n\")\n",
    "    print(\"p =\",p_values[j],\"test\",accuracy_test_k_p[j],\"\\n\")"
   ]
  },
  {
   "cell_type": "code",
   "execution_count": 32,
   "metadata": {},
   "outputs": [
    {
     "data": {
      "image/png": "[encoded data removed]",
      "text/plain": [
       "<Figure size 432x288 with 1 Axes>"
      ]
     },
     "metadata": {
      "needs_background": "light"
     },
     "output_type": "display_data"
    },
    {
     "data": {
      "image/png": "[encoded data removed]",
      "text/plain": [
       "<Figure size 432x288 with 1 Axes>"
      ]
     },
     "metadata": {
      "needs_background": "light"
     },
     "output_type": "display_data"
    }
   ],
   "source": [
    "# let's plot the accuracy on the training set\n",
    "import matplotlib.pyplot as plt\n",
    "plt.scatter(k_values,accuracy_training_k_p[0],marker=\"x\")\n",
    "plt.scatter(k_values,accuracy_training_k_p[1],marker=\"x\")\n",
    "plt.scatter(k_values,accuracy_training_k_p[2],marker=\"*\")\n",
    "plt.scatter(k_values,accuracy_training_k_p[3],marker=\"s\")\n",
    "plt.xlim([0, max(k_values)+2])\n",
    "plt.ylim([0.0, 1.1])\n",
    "plt.xlabel(\"Value of k\")\n",
    "plt.ylabel(\"Accuracy\")\n",
    "legend_labels = [\"Training (Manhattan, p=1)\",\"Training (Euclidian, p=2)\",\"Training (p=3)\",\"Training (p=4)\"]\n",
    "plt.legend(labels=legend_labels, loc=1, borderpad=0.2)\n",
    "plt.title(\"Effect of k and p on training set accuracy\", fontsize=10)\n",
    "plt.show()\n",
    "\n",
    "# let's plot the accuracy on the test set\n",
    "import matplotlib.pyplot as plt\n",
    "plt.scatter(k_values,accuracy_test_k_p[0],marker=\"x\")\n",
    "plt.scatter(k_values,accuracy_test_k_p[1],marker=\"+\")\n",
    "plt.scatter(k_values,accuracy_test_k_p[2],marker=\"*\")\n",
    "plt.scatter(k_values,accuracy_test_k_p[3],marker=\"s\")\n",
    "plt.xlim([0, max(k_values)+2])\n",
    "plt.ylim([0.0, 1.1])\n",
    "plt.xlabel(\"Value of k\")\n",
    "plt.ylabel(\"Accuracy\")\n",
    "legend_labels = [\"Test (Manhattan, p=1)\",\"Test (Euclidian, p=2)\",\"Training (p=3)\",\"Training (p=4)\"]\n",
    "plt.legend(labels=legend_labels, loc=1, borderpad=0.2)\n",
    "plt.title(\"Effect of k and p on test set accuracy\", fontsize=10)\n",
    "plt.show()"
   ]
  },
  {
   "cell_type": "code",
   "execution_count": 33,
   "metadata": {},
   "outputs": [
    {
     "name": "stdout",
     "output_type": "stream",
     "text": [
      "w = uniform ,p = 1 training [1.0, 0.8306451612903226, 0.8064516129032258, 0.75, 0.75, 0.717741935483871, 0.7016129032258065, 0.6854838709677419, 0.6451612903225806, 0.6854838709677419, 0.6451612903225806, 0.5806451612903226, 0.5564516129032258, 0.5645161290322581, 0.5645161290322581] \n",
      "\n",
      "w = uniform ,p = 1 test [0.7, 0.7, 0.5333333333333333, 0.43333333333333335, 0.4666666666666667, 0.4, 0.5, 0.4666666666666667, 0.4666666666666667, 0.5, 0.4666666666666667, 0.5, 0.43333333333333335, 0.5, 0.4666666666666667] \n",
      "\n",
      "w = uniform ,p = 2 training [1.0, 0.8306451612903226, 0.7580645161290323, 0.6854838709677419, 0.6370967741935484, 0.6048387096774194, 0.5806451612903226, 0.5967741935483871, 0.5645161290322581, 0.5241935483870968, 0.5161290322580645, 0.46774193548387094, 0.46774193548387094, 0.46774193548387094, 0.43548387096774194] \n",
      "\n",
      "w = uniform ,p = 2 test [0.5666666666666667, 0.4666666666666667, 0.4, 0.4, 0.4, 0.43333333333333335, 0.4, 0.3333333333333333, 0.43333333333333335, 0.4, 0.4, 0.4, 0.36666666666666664, 0.3, 0.3333333333333333] \n",
      "\n",
      "w = uniform ,p = 3 training [1.0, 0.8064516129032258, 0.7096774193548387, 0.6774193548387096, 0.6290322580645161, 0.6129032258064516, 0.5483870967741935, 0.5403225806451613, 0.5161290322580645, 0.49193548387096775, 0.4596774193548387, 0.43548387096774194, 0.4435483870967742, 0.4435483870967742, 0.41935483870967744] \n",
      "\n",
      "w = uniform ,p = 3 test [0.5333333333333333, 0.36666666666666664, 0.4, 0.3333333333333333, 0.36666666666666664, 0.4, 0.3333333333333333, 0.3333333333333333, 0.4, 0.43333333333333335, 0.4, 0.36666666666666664, 0.3333333333333333, 0.3333333333333333, 0.3333333333333333] \n",
      "\n",
      "w = uniform ,p = 4 training [1.0, 0.7983870967741935, 0.6774193548387096, 0.6532258064516129, 0.6370967741935484, 0.5887096774193549, 0.5403225806451613, 0.5080645161290323, 0.5080645161290323, 0.47580645161290325, 0.45161290322580644, 0.41935483870967744, 0.4435483870967742, 0.41935483870967744, 0.4274193548387097] \n",
      "\n",
      "w = uniform ,p = 4 test [0.5333333333333333, 0.3333333333333333, 0.43333333333333335, 0.3, 0.3, 0.4, 0.3333333333333333, 0.36666666666666664, 0.4, 0.4, 0.4, 0.3333333333333333, 0.3, 0.3333333333333333, 0.3] \n",
      "\n",
      "w = distance ,p = 1 training [1.0, 1.0, 1.0, 1.0, 1.0, 1.0, 1.0, 1.0, 1.0, 1.0, 1.0, 1.0, 1.0, 1.0, 1.0] \n",
      "\n",
      "w = distance ,p = 1 test [0.7, 0.7333333333333333, 0.6333333333333333, 0.5, 0.5333333333333333, 0.43333333333333335, 0.4666666666666667, 0.4666666666666667, 0.4666666666666667, 0.5333333333333333, 0.4666666666666667, 0.43333333333333335, 0.4666666666666667, 0.5, 0.4666666666666667] \n",
      "\n",
      "w = distance ,p = 2 training [1.0, 1.0, 1.0, 1.0, 1.0, 1.0, 1.0, 1.0, 1.0, 1.0, 1.0, 1.0, 1.0, 1.0, 1.0] \n",
      "\n",
      "w = distance ,p = 2 test [0.5666666666666667, 0.5333333333333333, 0.5, 0.4666666666666667, 0.36666666666666664, 0.4, 0.4, 0.43333333333333335, 0.4, 0.43333333333333335, 0.43333333333333335, 0.4, 0.43333333333333335, 0.4, 0.36666666666666664] \n",
      "\n",
      "w = distance ,p = 3 training [1.0, 1.0, 1.0, 1.0, 1.0, 1.0, 1.0, 1.0, 1.0, 1.0, 1.0, 1.0, 1.0, 1.0, 1.0] \n",
      "\n",
      "w = distance ,p = 3 test [0.5333333333333333, 0.4666666666666667, 0.4666666666666667, 0.3333333333333333, 0.36666666666666664, 0.3333333333333333, 0.36666666666666664, 0.4, 0.4, 0.4, 0.36666666666666664, 0.4, 0.4, 0.4, 0.4] \n",
      "\n",
      "w = distance ,p = 4 training [1.0, 1.0, 1.0, 1.0, 1.0, 1.0, 1.0, 1.0, 1.0, 1.0, 1.0, 1.0, 1.0, 1.0, 1.0] \n",
      "\n",
      "w = distance ,p = 4 test [0.5333333333333333, 0.43333333333333335, 0.43333333333333335, 0.3, 0.3333333333333333, 0.36666666666666664, 0.36666666666666664, 0.4, 0.4, 0.36666666666666664, 0.36666666666666664, 0.36666666666666664, 0.36666666666666664, 0.4, 0.3333333333333333] \n",
      "\n"
     ]
    }
   ],
   "source": [
    "# Now let's explore the impact of using a different weighting scheme\n",
    "w_values = [\"uniform\",\"distance\"]\n",
    "accuracy_training_k_p_w = []\n",
    "accuracy_test_k_p_w = []\n",
    "\n",
    "for i in range(len(w_values)):\n",
    "    accuracy_training_k_p_w.append([])\n",
    "    accuracy_test_k_p_w.append([])\n",
    "    \n",
    "    for j in range(len(p_values)):\n",
    "        accuracy_training_k_p_w[i].append([])\n",
    "        accuracy_test_k_p_w[i].append([])    \n",
    "\n",
    "        for k in k_values:\n",
    "            model_k_p_w = neighbors.KNeighborsClassifier(n_neighbors=k, p=p_values[j], weights=w_values[i])\n",
    "            model_k_p_w.fit(X_training, y_training)\n",
    "\n",
    "            # compute the predictions for the training and test sets\n",
    "            predictions_training_k_p_w = model_k_p_w.predict(X_training)\n",
    "            predictions_test_k_p_w = model_k_p_w.predict(X_test)\n",
    "\n",
    "            # compute the accuracy on the training and test set predictions\n",
    "            accuracy_training_k_p_w[i][j].append(metrics.accuracy_score(y_training, predictions_training_k_p_w))\n",
    "            accuracy_test_k_p_w[i][j].append(metrics.accuracy_score(y_test, predictions_test_k_p_w))\n",
    "\n",
    "        print(\"w =\",w_values[i],\",p =\",p_values[j],\"training\",accuracy_training_k_p_w[i][j],\"\\n\")\n",
    "        print(\"w =\",w_values[i],\",p =\",p_values[j],\"test\",accuracy_test_k_p_w[i][j],\"\\n\")"
   ]
  },
  {
   "cell_type": "code",
   "execution_count": 36,
   "metadata": {},
   "outputs": [
    {
     "data": {
      "image/png": "[encoded data removed]",
      "text/plain": [
       "<Figure size 432x288 with 1 Axes>"
      ]
     },
     "metadata": {
      "needs_background": "light"
     },
     "output_type": "display_data"
    },
    {
     "data": {
      "image/png": "[encoded data removed]",
      "text/plain": [
       "<Figure size 432x288 with 1 Axes>"
      ]
     },
     "metadata": {
      "needs_background": "light"
     },
     "output_type": "display_data"
    }
   ],
   "source": [
    "# let's plot the accuracy on the training set\n",
    "import matplotlib.pyplot as plt\n",
    "plt.scatter(k_values,accuracy_training_k_p_w[0][0],marker=\"x\")\n",
    "plt.scatter(k_values,accuracy_training_k_p_w[0][1],marker=\"+\")\n",
    "plt.scatter(k_values,accuracy_training_k_p_w[1][0],marker=\"*\")\n",
    "plt.scatter(k_values,accuracy_training_k_p_w[1][1],marker=\"s\")\n",
    "plt.xlim([0, max(k_values)+2])\n",
    "plt.ylim([0.0, 1.1])\n",
    "plt.xlabel(\"Value of k\")\n",
    "plt.ylabel(\"Accuracy\")\n",
    "legend_labels = [\"Training (Manhattan dist.,w=uniform)\",\"Training (Euclidian dist.,w=uniform)\",\n",
    "                 \"Training (Manhattan dist.,w=distance)\",\"Training (Euclidian dist.,w=distance)\"]\n",
    "plt.legend(labels=legend_labels, loc=4, borderpad=0.2)\n",
    "plt.title(\"Effect of k and p and w on training set accuracy\", fontsize=10)\n",
    "plt.show()\n",
    "\n",
    "# let's plot the accuracy on the test set\n",
    "import matplotlib.pyplot as plt\n",
    "plt.scatter(k_values,accuracy_test_k_p_w[0][0],marker=\"x\")\n",
    "plt.scatter(k_values,accuracy_test_k_p_w[0][1],marker=\"+\")\n",
    "plt.scatter(k_values,accuracy_test_k_p_w[1][0],marker=\"*\")\n",
    "plt.scatter(k_values,accuracy_test_k_p_w[1][1],marker=\"s\")\n",
    "plt.xlim([0, max(k_values)+2])\n",
    "plt.ylim([0.0, 1.1])\n",
    "plt.xlabel(\"Value of k\")\n",
    "plt.ylabel(\"Accuracy\")\n",
    "legend_labels = [\"Test (Manhattan dist.,w=uniform)\",\"Test  (Euclidian dist.,w=uniform)\",\n",
    "                 \"Training (Manhattan dist.,w=distance)\",\"Training (Euclidian dist.,w=distance)\"]\n",
    "plt.legend(labels=legend_labels, loc=1, borderpad=0.2)\n",
    "plt.title(\"Effect of k and p and w on test set accuracy\", fontsize=10)\n",
    "plt.show()"
   ]
  },
  {
   "cell_type": "code",
   "execution_count": 28,
   "metadata": {},
   "outputs": [
    {
     "name": "stdout",
     "output_type": "stream",
     "text": [
      "Max test set accuracy: 0.7333333333333333\n",
      "Index of max test set accuracy: (1, 0, 1)\n",
      "Hyperparameter values: w = distance p = 1 k = 3\n"
     ]
    }
   ],
   "source": [
    "# let's find the best test set accuracy, using numpy\n",
    "import numpy as np\n",
    "np_array = np.array(accuracy_test_k_p_w)\n",
    "max_index = np.unravel_index(np_array.argmax(), np_array.shape)\n",
    "print(\"Max test set accuracy:\",np_array.max())\n",
    "print(\"Index of max test set accuracy:\",max_index)\n",
    "print(\"Hyperparameter values: w =\",w_values[max_index[0]],\"p =\",p_values[max_index[1]],\"k =\",k_values[max_index[2]]) "
   ]
  },
  {
   "cell_type": "markdown",
   "metadata": {},
   "source": [
    "Key take away points from this worked example:\n",
    "* Distance weighting seems to work better than uniform weighting on the beer dataset\n",
    "* Manhattan distance seems to work best of the 4 distance metrics tested on the beer dataset\n",
    "* Lower values of k seem to work better thna higher values on the beer dataset\n",
    "* It is important to look at accuracy on both the training and test sets when deciding on model parameters\n",
    "* Training set accuracy is usually much higher than test set accuracy\n",
    "* The best test set accuracy we found on the beer dataset was with distance weighting, Manhattan distance and k=3. This combination also achieves 100% training set accuracy\n",
    "* We have manually explored hyperparameter values in this example, however scikit-learn provides a class called GridSearchCV which can automate the hyperparameter search process (we will cover this in a later lecture)  "
   ]
  },
  {
   "cell_type": "code",
   "execution_count": null,
   "metadata": {},
   "outputs": [],
   "source": []
  }
 ],
 "metadata": {
  "kernelspec": {
   "display_name": "Python 3",
   "language": "python",
   "name": "python3"
  },
  "language_info": {
   "codemirror_mode": {
    "name": "ipython",
    "version": 3
   },
   "file_extension": ".py",
   "mimetype": "text/x-python",
   "name": "python",
   "nbconvert_exporter": "python",
   "pygments_lexer": "ipython3",
   "version": "3.8.5"
  }
 },
 "nbformat": 4,
 "nbformat_minor": 4
}
